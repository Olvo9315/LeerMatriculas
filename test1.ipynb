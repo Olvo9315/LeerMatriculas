{
 "cells": [
  {
   "cell_type": "code",
   "execution_count": 2,
   "metadata": {},
   "outputs": [],
   "source": [
    "import cv2\n",
    "import pytesseract\n",
    "pytesseract.pytesseract.tesseract_cmd = r'C:\\Program Files (x86)\\Tesseract-OCR\\tesseract'\n",
    "import numpy as np\n",
    "import cv2\n",
    "import pyautogui\n",
    "from PIL import ImageOps, Image\n",
    "import win32gui\n",
    "import win32ui\n",
    "import win32con\n",
    "import win32api\n",
    "import time\n"
   ]
  },
  {
   "cell_type": "code",
   "execution_count": 5,
   "metadata": {},
   "outputs": [
    {
     "name": "stdout",
     "output_type": "stream",
     "text": [
      "area= 5704.0\n",
      "3.6363636363636362\n",
      "PLACA:  W721. HPH‘\n",
      "\n",
      "\n",
      "area= 6644.0\n",
      "3.56\n"
     ]
    },
    {
     "data": {
      "text/plain": [
       "-1"
      ]
     },
     "execution_count": 5,
     "metadata": {},
     "output_type": "execute_result"
    }
   ],
   "source": [
    "placa = []\n",
    "image = cv2.imread('f2.jpg')\n",
    "gray = cv2.cvtColor(image, cv2.COLOR_BGR2GRAY)\n",
    "gray = cv2.blur(gray,(3,3))\n",
    "canny = cv2.Canny(gray,240,240)\n",
    "canny = cv2.dilate(canny,None,iterations=1)\n",
    "cv2.imshow('Image',canny)\n",
    "cv2.moveWindow('Image',45,10)\n",
    "cv2.waitKey(0)\n",
    "#_,cnts,_ = cv2.findContours(canny,cv2.RETR_LIST,cv2.CHAIN_APPROX_SIMPLE)\n",
    "cnts,_ = cv2.findContours(canny,cv2.RETR_LIST,cv2.CHAIN_APPROX_SIMPLE)\n",
    "# v2.drawContours(image,cnts,-1,(0,255,0),2)\n",
    "for c in cnts:\n",
    "  area = cv2.contourArea(c)\n",
    "  x,y,w,h = cv2.boundingRect(c)\n",
    "  epsilon = 0.06*cv2.arcLength(c,True)\n",
    "  approx = cv2.approxPolyDP(c,epsilon,True)\n",
    "  # print('area=',area)\n",
    "  if len(approx)==4 and area>5000:\n",
    "    print('area=',area)\n",
    "    #cv2.drawContours(image,[approx],0,(0,255,0),3)\n",
    "    aspect_ratio = float(w)/h\n",
    "    print(aspect_ratio)\n",
    "    if aspect_ratio>3.6:\n",
    "      placa = gray[y:y+h,x:x+w]\n",
    "      text = pytesseract.image_to_string(placa,config='--psm 11')\n",
    "      print('PLACA: ',text)\n",
    "      cv2.imshow('PLACA',placa)\n",
    "      cv2.moveWindow('PLACA',780,10)\n",
    "      cv2.rectangle(image,(x,y),(x+w,y+h),(0,255,0),3)\n",
    "      cv2.putText(image,text,(x-20,y-10),1,2.2,(0,255,0),3)\n",
    "      \n",
    "cv2.imshow('Image',image)\n",
    "cv2.moveWindow('Image',45,10)\n",
    "cv2.waitKey(0)"
   ]
  }
 ],
 "metadata": {
  "interpreter": {
   "hash": "1ab5c486e60407867d311ff245b5d1e92e45fdc703c18a6811716ba26e071797"
  },
  "kernelspec": {
   "display_name": "Python 3.10.4 64-bit",
   "language": "python",
   "name": "python3"
  },
  "language_info": {
   "codemirror_mode": {
    "name": "ipython",
    "version": 3
   },
   "file_extension": ".py",
   "mimetype": "text/x-python",
   "name": "python",
   "nbconvert_exporter": "python",
   "pygments_lexer": "ipython3",
   "version": "3.10.4"
  },
  "orig_nbformat": 4
 },
 "nbformat": 4,
 "nbformat_minor": 2
}
