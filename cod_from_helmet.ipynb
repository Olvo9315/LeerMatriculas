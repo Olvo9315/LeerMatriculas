{
 "cells": [
  {
   "cell_type": "code",
   "execution_count": 1,
   "metadata": {},
   "outputs": [],
   "source": [
    "import cv2\n",
    "import matplotlib.pyplot as plt\n",
    "import cvlib as cv\n",
    "from cvlib.object_detection import draw_bbox\n",
    "import pyautogui\n",
    "from PIL import ImageOps, Image\n",
    "import numpy as np\n",
    "import pytesseract\n",
    "pytesseract.pytesseract.tesseract_cmd = r'C:\\Program Files (x86)\\Tesseract-OCR\\tesseract'\n",
    "# from pyimagesearch.anpr import PyImageSearchANPR\n",
    "from imutils import paths\n",
    "import argparse\n",
    "import imutils\n",
    "from collections import deque\n",
    "import random as rng"
   ]
  },
  {
   "cell_type": "code",
   "execution_count": 5,
   "metadata": {},
   "outputs": [
    {
     "name": "stdout",
     "output_type": "stream",
     "text": [
      "(246.0, 257.5)\n",
      "(478.5, 229.0)\n"
     ]
    }
   ],
   "source": [
    "cnt_cars = 0\n",
    "idi = []\n",
    "idi.append(cnt_cars)\n",
    "idi[cnt_cars] = 0\n",
    "cbox = 0 \n",
    "xcoord = []\n",
    "ccoox0 = []\n",
    "ccoox0.append(0)\n",
    "ccoox1 = []\n",
    "ccoox1.append(0)\n",
    "ccoox2 = []\n",
    "ccoox2.append(0)\n",
    "ccoox3 = []\n",
    "ccoox3.append(0)\n",
    "fstr = []\n",
    "a=0\n",
    "b=0\n",
    "num_frames = 0\n",
    "rng.seed(12345)\n",
    "# im_ref = cv2.imread('frame.jpg')\n",
    "# im_ref = im_ref[500:850, 250:1000]\n",
    "# im_ref = cv2.cvtColor(im_ref[500:850, 250:1000], cv2.COLOR_BGR2GRAY)\n",
    "cap = cv2.VideoCapture(\"VID20220614080007.mp4\")\n",
    "ret, frame = cap.read()\n",
    "im_ant = cv2.cvtColor(frame[500:850, 250:1000], cv2.COLOR_BGR2GRAY)\n",
    "try:\n",
    "    while(cap.isOpened()):\n",
    "        ret, frame = cap.read()\n",
    "        im_act = cv2.cvtColor(frame[500:850, 250:1000], cv2.COLOR_BGR2GRAY)\n",
    "        # im_act = frame[500:850, 250:1000]\n",
    "        if ret == True:\n",
    "            num_frames += 1\n",
    "            im = cv2.absdiff(im_ant, im_act)\n",
    "            im = np.array(im)\n",
    "            im_ant = im_act\n",
    "            \n",
    "            canny_output = cv2.Canny(im, 250, 250 * 2)\n",
    "            contours,_ = cv2.findContours(canny_output, cv2.RETR_EXTERNAL, cv2.CHAIN_APPROX_SIMPLE)\n",
    "            contours_poly = [None]*len(contours)\n",
    "            boundRect = [None]*len(contours)\n",
    "            centers = [None]*len(contours)\n",
    "            radius = [None]*len(contours)\n",
    "            for i, c in enumerate(contours):\n",
    "                contours_poly[i] = cv2.approxPolyDP(c, 5, True)\n",
    "                centers[i], radius[i] = cv2.minEnclosingCircle(contours_poly[i])\n",
    "                if radius[i]>120:\n",
    "                    print(centers[i])\n",
    "                    dr_circle = cv2.circle(img = im, center = (int(centers[i][0]), int(centers[i][1])), radius = 100, color = (200,50,50), thickness = 1)\n",
    "\n",
    "                cv2.imshow('Detection', im)\n",
    "\n",
    "        if cv2.waitKey(1) == ord('q'): \n",
    "\n",
    "            break\n",
    "except:\n",
    "    raise\n",
    "\n",
    "cv2.destroyAllWindows() # cerrar la ventana\n",
    "    "
   ]
  }
 ],
 "metadata": {
  "interpreter": {
   "hash": "1ab5c486e60407867d311ff245b5d1e92e45fdc703c18a6811716ba26e071797"
  },
  "kernelspec": {
   "display_name": "Python 3.10.4 64-bit",
   "language": "python",
   "name": "python3"
  },
  "language_info": {
   "codemirror_mode": {
    "name": "ipython",
    "version": 3
   },
   "file_extension": ".py",
   "mimetype": "text/x-python",
   "name": "python",
   "nbconvert_exporter": "python",
   "pygments_lexer": "ipython3",
   "version": "3.10.4"
  },
  "orig_nbformat": 4
 },
 "nbformat": 4,
 "nbformat_minor": 2
}
