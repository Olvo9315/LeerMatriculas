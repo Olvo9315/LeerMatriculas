{
 "cells": [
  {
   "cell_type": "code",
   "execution_count": 1,
   "metadata": {},
   "outputs": [],
   "source": [
    "import cv2\n",
    "import pytesseract\n",
    "pytesseract.pytesseract.tesseract_cmd = r'C:\\Program Files (x86)\\Tesseract-OCR\\tesseract'\n",
    "import numpy as np\n",
    "import cv2\n",
    "import pyautogui\n",
    "from PIL import ImageOps, Image\n",
    "import win32gui\n",
    "import win32ui\n",
    "import win32con\n",
    "import win32api\n",
    "import time\n",
    "import imutils\n",
    "from datetime import datetime\n"
   ]
  },
  {
   "cell_type": "code",
   "execution_count": 2,
   "metadata": {},
   "outputs": [
    {
     "name": "stdout",
     "output_type": "stream",
     "text": [
      "[]\n",
      "0\n"
     ]
    }
   ],
   "source": [
    "Ctexto = ''\n",
    "fstr = []\n",
    "xlist = 0\n",
    "cap = cv2.VideoCapture(\"VID20220614080007.mp4\")\n",
    "ret, frame = cap.read()\n",
    "while(cap.isOpened()):\n",
    "    ret, frame = cap.read()\n",
    "    # img = pyautogui.screenshot(region=(400, 600, 1200, 460)) # tomamos un pantallazo\n",
    "    # frame = np.array(img) # convertimos la imagen a un arreglo de numeros\n",
    "    # frame = cv2.cvtColor(frame, cv2.COLOR_BGR2RGB) # Convertimos la imagen BGR a RGB\n",
    "    # cv2.imshow('Grabando', frame) # mostramos el cuadro que acabamos de grabar\n",
    "\n",
    "    \n",
    "    gray = cv2.cvtColor(frame[500:850, 250:1000], cv2.COLOR_BGR2GRAY)\n",
    "    gray = cv2.blur(gray,(1,1))\n",
    "    gray = cv2.bilateralFilter(gray, 3, 9, 9)\n",
    "    canny = cv2.Canny(gray,50,120)\n",
    "    # canny = cv2.dilate(canny,None,iterations=1)\n",
    "    # cv2.imshow('Grabando', canny) # mostramos el cuadro que acabamos de grabar\n",
    "    # _,cnts,_ = cv2.findContours(canny,cv2.RETR_LIST,cv2.CHAIN_APPROX_SIMPLE)\n",
    "    cnts,_ = cv2.findContours(canny,cv2.RETR_LIST,cv2.CHAIN_APPROX_SIMPLE)\n",
    "    # cnts = cv2.findContours(canny.copy(), cv2.RETR_TREE, cv2.CHAIN_APPROX_SIMPLE)\n",
    "    # cnts = imutils.grab_contours(cnts)\n",
    "    # screenCnt = None\n",
    "    \n",
    "    for c in cnts:\n",
    "        area = cv2.contourArea(c)\n",
    "        x,y,w,h = cv2.boundingRect(c)\n",
    "        epsilon = 0.018*cv2.arcLength(c,True)\n",
    "        approx = cv2.approxPolyDP(c,epsilon,True)\n",
    "        a=0\n",
    "        i=0\n",
    "        nstr = ''\n",
    "        if len(approx)==4 and area>800:\n",
    "            aspect_ratio = float(w)/h\n",
    "            if aspect_ratio>3.4 and aspect_ratio<6:\n",
    "                placa = gray[y:y+h,x:x+w]\n",
    "                text = pytesseract.image_to_string(placa,config='--psm 11')\n",
    "                if len(text) >= 4:\n",
    "                    for i in range(0, len(text)-4):\n",
    "                        if text[i].isdigit() and text[i+1].isdigit() and text[i+2].isdigit() and text[i+3].isdigit():\n",
    "                            nstr = text[i] + text[i+1] + text[i+2] + text[i+3]\n",
    "                            print(nstr)\n",
    "                            fstr.append(text)\n",
    "                            # fstr.append(text + ' ' + str(datetime.now()))\n",
    "                            xlist += 1\n",
    "                            print('area=',area)\n",
    "                            print(aspect_ratio)\n",
    "                            print('PLACA: ',text)\n",
    "                            break    \n",
    "                        else: \n",
    "                            if text[i].isdigit() and a==0: \n",
    "                                a = 1\n",
    "                                fstr.append(text)\n",
    "                                # fstr.append(text + ' ' + str(datetime.now()))\n",
    "                                xlist += 1\n",
    "                                print('area=',area)\n",
    "                                print(aspect_ratio)\n",
    "                                print('PLACA: ',text)\n",
    "                                break \n",
    "                cv2.imshow('Grabando', frame) # mostramos el cuadro que acabamos de grabar\n",
    "                # cv2.resizeWindow(\"Grabando\", 1200, 900)  \n",
    "                cv2.rectangle(frame,(x,y),(x+w,y+h),(0,255,0),3)\n",
    "                cv2.putText(frame,text,(x-20,y-10),1,2.2,(0,255,0),3)\n",
    "    \n",
    "    \n",
    "    \n",
    "    if cv2.waitKey(1) == ord('q'): # si el usuario presiona q paramos de grabar.\n",
    "        print(fstr)\n",
    "        print(xlist)\n",
    "        break\n",
    "        \n",
    "\n",
    "cv2.destroyAllWindows() # cerrar la ventana"
   ]
  }
 ],
 "metadata": {
  "interpreter": {
   "hash": "1ab5c486e60407867d311ff245b5d1e92e45fdc703c18a6811716ba26e071797"
  },
  "kernelspec": {
   "display_name": "Python 3.10.4 64-bit",
   "language": "python",
   "name": "python3"
  },
  "language_info": {
   "codemirror_mode": {
    "name": "ipython",
    "version": 3
   },
   "file_extension": ".py",
   "mimetype": "text/x-python",
   "name": "python",
   "nbconvert_exporter": "python",
   "pygments_lexer": "ipython3",
   "version": "3.10.4"
  },
  "orig_nbformat": 4
 },
 "nbformat": 4,
 "nbformat_minor": 2
}
